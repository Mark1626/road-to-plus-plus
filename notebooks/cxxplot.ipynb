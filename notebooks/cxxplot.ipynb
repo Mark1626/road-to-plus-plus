{
 "cells": [
  {
   "cell_type": "code",
   "execution_count": 1,
   "id": "a9ccc21a",
   "metadata": {
    "ExecuteTime": {
     "end_time": "2021-12-21T07:56:58.680248Z",
     "start_time": "2021-12-21T07:56:58.680035Z"
    }
   },
   "outputs": [],
   "source": [
    "#pragma cling add_include_path(\"/home/nimalanm/Documents/opensource/personal/road-to-plus-plus/chapter-libs/\")"
   ]
  },
  {
   "cell_type": "code",
   "execution_count": 2,
   "id": "75d3bd5f",
   "metadata": {
    "ExecuteTime": {
     "end_time": "2021-12-21T07:56:59.227667Z",
     "start_time": "2021-12-21T07:56:58.927469Z"
    }
   },
   "outputs": [],
   "source": [
    "#include <cxxplot/cxxplot.hh>\n",
    "#include \"xwidgets/ximage.hpp\""
   ]
  },
  {
   "cell_type": "code",
   "execution_count": 3,
   "id": "c95f42b2",
   "metadata": {
    "ExecuteTime": {
     "end_time": "2021-12-21T07:56:59.501012Z",
     "start_time": "2021-12-21T07:56:59.227772Z"
    }
   },
   "outputs": [
    {
     "data": {
      "application/vnd.jupyter.widget-view+json": {
       "model_id": "f763bb8fa2a0467cb20ddfaa982934ff",
       "version_major": 2,
       "version_minor": 0
      },
      "text/plain": [
       "A Jupyter widget with unique id: f763bb8fa2a0467cb20ddfaa982934ff"
      ]
     },
     "execution_count": 3,
     "metadata": {},
     "output_type": "execute_result"
    }
   ],
   "source": [
    "auto sincos_plot = \"sincos.png\";\n",
    "cxxplot::CXXPlot plot(\"script.ps\", sincos_plot);\n",
    "plot.script(\"plot [-pi/2:pi] cos(x),sin(x)\\n\");\n",
    "plot.export_png();\n",
    "\n",
    "auto im_sincos = xw::image_from_file(\"test.png\").finalize();\n",
    "im_sincos"
   ]
  },
  {
   "cell_type": "code",
   "execution_count": 4,
   "id": "75e9972b",
   "metadata": {
    "ExecuteTime": {
     "end_time": "2021-12-21T07:57:00.358400Z",
     "start_time": "2021-12-21T07:56:59.811050Z"
    }
   },
   "outputs": [
    {
     "data": {
      "application/vnd.jupyter.widget-view+json": {
       "model_id": "7705f647f6c44e2e9a7957357f750a39",
       "version_major": 2,
       "version_minor": 0
      },
      "text/plain": [
       "A Jupyter widget with unique id: 7705f647f6c44e2e9a7957357f750a39"
      ]
     },
     "execution_count": 4,
     "metadata": {},
     "output_type": "execute_result"
    }
   ],
   "source": [
    "auto pngname = \"exp.png\";\n",
    "cxxplot::CXXPlot plot(\"script.ps\", pngname);\n",
    "plot.script(\"set xlabel 'x'\");\n",
    "plot.script(\"set ylabel 'f(x)'\");\n",
    "plot.script(\"set grid\");\n",
    "plot.script(\"plot [-4:4] exp(-x**2 / 2)\");\n",
    "plot.export_png();\n",
    "\n",
    "auto im = xw::image_from_file(pngname).finalize();\n",
    "im"
   ]
  },
  {
   "cell_type": "code",
   "execution_count": 5,
   "id": "58600602",
   "metadata": {
    "ExecuteTime": {
     "end_time": "2021-12-21T07:57:00.707853Z",
     "start_time": "2021-12-21T07:57:00.492550Z"
    }
   },
   "outputs": [
    {
     "data": {
      "application/vnd.jupyter.widget-view+json": {
       "model_id": "5439a5c12b2c48d8941b73581c9a9f6c",
       "version_major": 2,
       "version_minor": 0
      },
      "text/plain": [
       "A Jupyter widget with unique id: 5439a5c12b2c48d8941b73581c9a9f6c"
      ]
     },
     "execution_count": 5,
     "metadata": {},
     "output_type": "execute_result"
    }
   ],
   "source": [
    "auto pngname = \"exp.png\";\n",
    "cxxplot::CXXPlot plot(\"script.ps\", pngname);\n",
    "plot.script(\"set xlabel 'x'\");\n",
    "plot.script(\"set ylabel 'f(x)'\");\n",
    "plot.script(\"set grid\");\n",
    "plot.script(\"plot '-' notitle\");\n",
    "plot.script(\"0 0\");\n",
    "plot.script(\"0.5 0.5\");\n",
    "plot.script(\"0.25 0.25\");\n",
    "plot.script(\"1 1\");\n",
    "plot.export_png();\n",
    "\n",
    "auto im = xw::image_from_file(pngname).finalize();\n",
    "im"
   ]
  },
  {
   "cell_type": "code",
   "execution_count": 6,
   "id": "32381be4",
   "metadata": {
    "ExecuteTime": {
     "end_time": "2021-12-21T07:57:01.976475Z",
     "start_time": "2021-12-21T07:57:01.729345Z"
    }
   },
   "outputs": [
    {
     "data": {
      "application/vnd.jupyter.widget-view+json": {
       "model_id": "828f3211ce1d4e21811fa12e6d92a3ec",
       "version_major": 2,
       "version_minor": 0
      },
      "text/plain": [
       "A Jupyter widget with unique id: 828f3211ce1d4e21811fa12e6d92a3ec"
      ]
     },
     "execution_count": 6,
     "metadata": {},
     "output_type": "execute_result"
    }
   ],
   "source": [
    "auto plotname = \"plot.png\";\n",
    "using std::make_pair;\n",
    "\n",
    "std::vector<std::pair<int, int>> data;\n",
    "data.push_back(make_pair(1, 1));\n",
    "data.push_back(make_pair(2, 2));\n",
    "data.push_back(make_pair(3, 3));\n",
    "data.push_back(make_pair(4, 4));\n",
    "\n",
    "cxxplot::plot(plotname, data, {\n",
    "    \"set grid\",\n",
    "    \"set xlabel 'x'\",\n",
    "    \"set ylabel 'y'\"\n",
    "});\n",
    "auto im = xw::image_from_file(plotname).finalize();\n",
    "im"
   ]
  },
  {
   "cell_type": "code",
   "execution_count": null,
   "id": "eb02eed5",
   "metadata": {},
   "outputs": [],
   "source": []
  }
 ],
 "metadata": {
  "kernelspec": {
   "display_name": "C++14",
   "language": "C++14",
   "name": "xcpp14"
  },
  "language_info": {
   "codemirror_mode": "text/x-c++src",
   "file_extension": ".cpp",
   "mimetype": "text/x-c++src",
   "name": "c++",
   "version": "14"
  },
  "toc": {
   "base_numbering": 1,
   "nav_menu": {},
   "number_sections": true,
   "sideBar": true,
   "skip_h1_title": false,
   "title_cell": "Table of Contents",
   "title_sidebar": "Contents",
   "toc_cell": false,
   "toc_position": {},
   "toc_section_display": true,
   "toc_window_display": false
  }
 },
 "nbformat": 4,
 "nbformat_minor": 5
}
